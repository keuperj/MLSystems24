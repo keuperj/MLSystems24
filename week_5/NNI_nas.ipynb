{
  "cells": [
    {
      "cell_type": "code",
      "execution_count": null,
      "metadata": {
        "id": "b-DnAbh0EDMo"
      },
      "outputs": [],
      "source": [
        "%matplotlib inline"
      ]
    },
    {
      "cell_type": "markdown",
      "metadata": {
        "id": "ZkmgBXpxEDMr"
      },
      "source": [
        "\n",
        "# Hello, NAS!\n",
        "\n",
        "This is the 101 tutorial of Neural Architecture Search (NAS) on NNI.\n",
        "In this tutorial, we will search for a neural architecture on MNIST dataset with the help of NAS framework of NNI, i.e., *Retiarii*.\n",
        "We use multi-trial NAS as an example to show how to construct and explore a model space.\n",
        "\n",
        "There are mainly three crucial components for a neural architecture search task, namely,\n",
        "\n",
        "* Model search space that defines a set of models to explore.\n",
        "* A proper strategy as the method to explore this model space.\n",
        "* A model evaluator that reports the performance of every model in the space.\n",
        "\n",
        "Currently, PyTorch is the only supported framework by Retiarii, and we have only tested **PyTorch 1.9 to 1.13**.\n",
        "This tutorial assumes PyTorch context but it should also apply to other frameworks, which is in our future plan.\n",
        "\n",
        "## Define your Model Space\n",
        "\n",
        "Model space is defined by users to express a set of models that users want to explore, which contains potentially good-performing models.\n",
        "In this framework, a model space is defined with two parts: a base model and possible mutations on the base model.\n"
      ]
    },
    {
      "cell_type": "markdown",
      "metadata": {
        "id": "yi2bGXogEDMt"
      },
      "source": [
        "### Define Base Model\n",
        "\n",
        "Defining a base model is almost the same as defining a PyTorch (or TensorFlow) model.\n",
        "\n",
        "Below is a very simple example of defining a base model.\n",
        "\n"
      ]
    },
    {
      "cell_type": "code",
      "execution_count": null,
      "metadata": {
        "id": "eDN-8z5yEDMu"
      },
      "outputs": [],
      "source": [
        "import torch\n",
        "import torch.nn as nn\n",
        "import torch.nn.functional as F\n",
        "import nni\n",
        "from nni.nas.nn.pytorch import LayerChoice, ModelSpace, MutableDropout, MutableLinear\n",
        "\n",
        "\n",
        "class Net(ModelSpace):  # should inherit ModelSpace rather than nn.Module\n",
        "    def __init__(self):\n",
        "        super().__init__()\n",
        "        self.conv1 = nn.Conv2d(1, 32, 3, 1)\n",
        "        self.conv2 = nn.Conv2d(32, 64, 3, 1)\n",
        "        self.dropout1 = nn.Dropout(0.25)\n",
        "        self.dropout2 = nn.Dropout(0.5)\n",
        "        self.fc1 = nn.Linear(9216, 128)\n",
        "        self.fc2 = nn.Linear(128, 10)\n",
        "\n",
        "    def forward(self, x):\n",
        "        x = F.relu(self.conv1(x))\n",
        "        x = F.max_pool2d(self.conv2(x), 2)\n",
        "        x = torch.flatten(self.dropout1(x), 1)\n",
        "        x = self.fc2(self.dropout2(F.relu(self.fc1(x))))\n",
        "        output = F.log_softmax(x, dim=1)\n",
        "        return output"
      ]
    },
    {
      "cell_type": "markdown",
      "metadata": {
        "id": "HXQku8TsEDMv"
      },
      "source": [
        "### Define Model Variations\n",
        "\n",
        "A base model is only one concrete model not a model space. We provide :doc:`API and Primitives </nas/construct_space>`\n",
        "for users to express how the base model can be mutated. That is, to build a model space which includes many models.\n",
        "\n",
        "Based on the above base model, we can define a model space as below.\n",
        "\n",
        "```diff\n",
        "class Net(ModelSpace):\n",
        "  def __init__(self):\n",
        "    super().__init__()\n",
        "    self.conv1 = nn.Conv2d(1, 32, 3, 1)\n",
        "-   self.conv2 = nn.Conv2d(32, 64, 3, 1)\n",
        "+   self.conv2 = LayerChoice([\n",
        "+       nn.Conv2d(32, 64, 3, 1),\n",
        "+       DepthwiseSeparableConv(32, 64)\n",
        "+   ], label='conv2)\n",
        "-   self.dropout1 = nn.Dropout(0.25)\n",
        "+   self.dropout1 = MutableDropout(nni.choice('dropout', [0.25, 0.5, 0.75]))\n",
        "    self.dropout2 = nn.Dropout(0.5)\n",
        "-   self.fc1 = nn.Linear(9216, 128)\n",
        "-   self.fc2 = nn.Linear(128, 10)\n",
        "+   feature = nni.choice('feature', [64, 128, 256])\n",
        "+   self.fc1 = MutableLinear(9216, feature)\n",
        "+   self.fc2 = MutableLinear(feature, 10)\n",
        "\n",
        "  def forward(self, x):\n",
        "    x = F.relu(self.conv1(x))\n",
        "    x = F.max_pool2d(self.conv2(x), 2)\n",
        "    x = torch.flatten(self.dropout1(x), 1)\n",
        "    x = self.fc2(self.dropout2(F.relu(self.fc1(x))))\n",
        "    output = F.log_softmax(x, dim=1)\n",
        "    return output\n",
        "```\n",
        "This results in the following code:\n",
        "\n"
      ]
    },
    {
      "cell_type": "code",
      "execution_count": null,
      "metadata": {
        "id": "Qu96PwxaEDMw"
      },
      "outputs": [],
      "source": [
        "class DepthwiseSeparableConv(nn.Module):\n",
        "    def __init__(self, in_ch, out_ch):\n",
        "        super().__init__()\n",
        "        self.depthwise = nn.Conv2d(in_ch, in_ch, kernel_size=3, groups=in_ch)\n",
        "        self.pointwise = nn.Conv2d(in_ch, out_ch, kernel_size=1)\n",
        "\n",
        "    def forward(self, x):\n",
        "        return self.pointwise(self.depthwise(x))\n",
        "\n",
        "\n",
        "class MyModelSpace(ModelSpace):\n",
        "    def __init__(self):\n",
        "        super().__init__()\n",
        "        self.conv1 = nn.Conv2d(1, 32, 3, 1)\n",
        "        # LayerChoice is used to select a layer between Conv2d and DwConv.\n",
        "        self.conv2 = LayerChoice([\n",
        "            nn.Conv2d(32, 64, 3, 1),\n",
        "            DepthwiseSeparableConv(32, 64)\n",
        "        ], label='conv2')\n",
        "        # nni.choice is used to select a dropout rate.\n",
        "        # The result can be used as parameters of `MutableXXX`.\n",
        "        self.dropout1 = MutableDropout(nni.choice('dropout', [0.25, 0.5, 0.75]))  # choose dropout rate from 0.25, 0.5 and 0.75\n",
        "        self.dropout2 = nn.Dropout(0.5)\n",
        "        feature = nni.choice('feature', [64, 128, 256])\n",
        "        self.fc1 = MutableLinear(9216, feature)\n",
        "        self.fc2 = MutableLinear(feature, 10)\n",
        "\n",
        "    def forward(self, x):\n",
        "        x = F.relu(self.conv1(x))\n",
        "        x = F.max_pool2d(self.conv2(x), 2)\n",
        "        x = torch.flatten(self.dropout1(x), 1)\n",
        "        x = self.fc2(self.dropout2(F.relu(self.fc1(x))))\n",
        "        output = F.log_softmax(x, dim=1)\n",
        "        return output\n",
        "\n",
        "\n",
        "model_space = MyModelSpace()\n",
        "model_space"
      ]
    },
    {
      "cell_type": "markdown",
      "metadata": {
        "id": "hNmGOREXEDMx"
      },
      "source": [
        "This example uses two mutation APIs,\n",
        ":class:`nn.LayerChoice <nni.nas.nn.pytorch.LayerChoice>` and\n",
        ":func:`nni.choice`.\n",
        ":class:`nn.LayerChoice <nni.nas.nn.pytorch.LayerChoice>`\n",
        "takes a list of candidate modules (two in this example), one will be chosen for each sampled model.\n",
        "It can be used like normal PyTorch module.\n",
        ":func:`nni.choice` is used as parameter of `MutableDropout`, which then takes the result as dropout rate.\n",
        "\n",
        "More detailed API description and usage can be found :doc:`here </nas/construct_space>`.\n",
        "\n",
        "<div class=\"alert alert-info\"><h4>Note</h4><p>We are actively enriching the mutation APIs, to facilitate easy construction of model space.\n",
        "    If the currently supported mutation APIs cannot express your model space,\n",
        "    please refer to :doc:`this doc </nas/mutator>` for customizing mutators.</p></div>\n",
        "\n",
        "## Explore the Defined Model Space\n",
        "\n",
        "There are basically two exploration approaches: (1) search by evaluating each sampled model independently,\n",
        "which is the search approach in `multi-trial NAS <multi-trial-nas>`\n",
        "and (2) one-shot weight-sharing based search, which is used in one-shot NAS.\n",
        "We demonstrate the first approach in this tutorial. Users can refer to `here <one-shot-nas>` for the second approach.\n",
        "\n",
        "First, users need to pick a proper exploration strategy to explore the defined model space.\n",
        "Second, users need to pick or customize a model evaluator to evaluate the performance of each explored model.\n",
        "\n",
        "### Pick an exploration strategy\n",
        "\n",
        "NNI NAS supports many :doc:`exploration strategies </nas/exploration_strategy>`.\n",
        "\n",
        "Simply choosing (i.e., instantiate) an exploration strategy as below.\n",
        "\n"
      ]
    },
    {
      "cell_type": "code",
      "execution_count": null,
      "metadata": {
        "id": "1JO1RA6DEDMx"
      },
      "outputs": [],
      "source": [
        "import nni.nas.strategy as strategy\n",
        "search_strategy = strategy.Random()  # dedup=False if deduplication is not wanted"
      ]
    },
    {
      "cell_type": "markdown",
      "metadata": {
        "id": "fZICPqrmEDMy"
      },
      "source": [
        "### Pick or customize a model evaluator\n",
        "\n",
        "In the exploration process, the exploration strategy repeatedly generates new models. A model evaluator is for training\n",
        "and validating each generated model to obtain the model's performance.\n",
        "The performance is sent to the exploration strategy for the strategy to generate better models.\n",
        "\n",
        "NNI NAS has provided :doc:`built-in model evaluators </nas/evaluator>`, but to start with,\n",
        "it is recommended to use :class:`FunctionalEvaluator <nni.nas.evaluator.FunctionalEvaluator>`,\n",
        "that is, to wrap your own training and evaluation code with one single function.\n",
        "This function should receive one single model class and uses :func:`nni.report_final_result` to report the final score of this model.\n",
        "\n",
        "An example here creates a simple evaluator that runs on MNIST dataset, trains for 2 epochs, and reports its validation accuracy.\n",
        "\n"
      ]
    },
    {
      "cell_type": "code",
      "execution_count": null,
      "metadata": {
        "id": "rBA3i21LEDMz"
      },
      "outputs": [],
      "source": [
        "import nni\n",
        "\n",
        "from torchvision import transforms\n",
        "from torchvision.datasets import MNIST\n",
        "from torch.utils.data import DataLoader\n",
        "\n",
        "\n",
        "def train_epoch(model, device, train_loader, optimizer, epoch):\n",
        "    loss_fn = torch.nn.CrossEntropyLoss()\n",
        "    model.train()\n",
        "    for batch_idx, (data, target) in enumerate(train_loader):\n",
        "        data, target = data.to(device), target.to(device)\n",
        "        optimizer.zero_grad()\n",
        "        output = model(data)\n",
        "        loss = loss_fn(output, target)\n",
        "        loss.backward()\n",
        "        optimizer.step()\n",
        "        if batch_idx % 10 == 0:\n",
        "            print('Train Epoch: {} [{}/{} ({:.0f}%)]\\tLoss: {:.6f}'.format(\n",
        "                epoch, batch_idx * len(data), len(train_loader.dataset),\n",
        "                100. * batch_idx / len(train_loader), loss.item()))\n",
        "\n",
        "\n",
        "def test_epoch(model, device, test_loader):\n",
        "    model.eval()\n",
        "    test_loss = 0\n",
        "    correct = 0\n",
        "    with torch.no_grad():\n",
        "        for data, target in test_loader:\n",
        "            data, target = data.to(device), target.to(device)\n",
        "            output = model(data)\n",
        "            pred = output.argmax(dim=1, keepdim=True)\n",
        "            correct += pred.eq(target.view_as(pred)).sum().item()\n",
        "\n",
        "    test_loss /= len(test_loader.dataset)\n",
        "    accuracy = 100. * correct / len(test_loader.dataset)\n",
        "\n",
        "    print('\\nTest set: Accuracy: {}/{} ({:.0f}%)\\n'.format(\n",
        "          correct, len(test_loader.dataset), accuracy))\n",
        "\n",
        "    return accuracy\n",
        "\n",
        "\n",
        "def evaluate_model(model):\n",
        "    # By v3.0, the model will be instantiated by default.\n",
        "    device = torch.device('cuda') if torch.cuda.is_available() else torch.device('cpu')\n",
        "    model.to(device)\n",
        "\n",
        "    optimizer = torch.optim.Adam(model.parameters(), lr=1e-3)\n",
        "    transf = transforms.Compose([transforms.ToTensor(), transforms.Normalize((0.1307,), (0.3081,))])\n",
        "    train_loader = DataLoader(MNIST('data/mnist', download=True, transform=transf), batch_size=64, shuffle=True)\n",
        "    test_loader = DataLoader(MNIST('data/mnist', download=True, train=False, transform=transf), batch_size=64)\n",
        "\n",
        "    for epoch in range(3):\n",
        "        # train the model for one epoch\n",
        "        train_epoch(model, device, train_loader, optimizer, epoch)\n",
        "        # test the model for one epoch\n",
        "        accuracy = test_epoch(model, device, test_loader)\n",
        "        # call report intermediate result. Result can be float or dict\n",
        "        nni.report_intermediate_result(accuracy)\n",
        "\n",
        "    # report final test result\n",
        "    nni.report_final_result(accuracy)"
      ]
    },
    {
      "cell_type": "markdown",
      "metadata": {
        "id": "2T8GJxfWEDM0"
      },
      "source": [
        "Create the evaluator\n",
        "\n"
      ]
    },
    {
      "cell_type": "code",
      "execution_count": null,
      "metadata": {
        "id": "PL4AJwXxEDM0"
      },
      "outputs": [],
      "source": [
        "from nni.nas.evaluator import FunctionalEvaluator\n",
        "evaluator = FunctionalEvaluator(evaluate_model)"
      ]
    },
    {
      "cell_type": "markdown",
      "metadata": {
        "id": "RBijWMRQEDM0"
      },
      "source": [
        "The ``train_epoch`` and ``test_epoch`` here can be any customized function,\n",
        "where users can write their own training recipe.\n",
        "\n",
        "It is recommended that the ``evaluate_model`` here accepts no additional arguments other than ``model``.\n",
        "However, in the :doc:`advanced tutorial </nas/evaluator>`, we will show how to use additional arguments in case you actually need those.\n",
        "In future, we will support mutation on the arguments of evaluators, which is commonly called \"Hyper-parameter tuning\".\n",
        "\n",
        "## Launch an Experiment\n",
        "\n",
        "After all the above are prepared, it is time to start an experiment to do the model search. An example is shown below.\n",
        "\n"
      ]
    },
    {
      "cell_type": "code",
      "execution_count": null,
      "metadata": {
        "id": "qhZbbzUJEDM0"
      },
      "outputs": [],
      "source": [
        "from nni.nas.experiment import NasExperiment\n",
        "exp = NasExperiment(model_space, evaluator, search_strategy)"
      ]
    },
    {
      "cell_type": "markdown",
      "metadata": {
        "id": "YTa9KjXJEDM0"
      },
      "source": [
        "Different from HPO experiment, NAS experiment will generate an experiment config automatically.\n",
        "It should work for most cases. For example, when using multi-trial strategies,\n",
        "local training service with concurrency 1 will be used by default.\n",
        "Users can customize the config. For example,\n",
        "\n"
      ]
    },
    {
      "cell_type": "code",
      "execution_count": null,
      "metadata": {
        "id": "4nC0wjY2EDM0"
      },
      "outputs": [],
      "source": [
        "exp.config.max_trial_number = 3   # spawn 3 trials at most\n",
        "exp.config.trial_concurrency = 1  # will run 1 trial concurrently\n",
        "exp.config.trial_gpu_number = 0   # will not use GPU"
      ]
    },
    {
      "cell_type": "markdown",
      "metadata": {
        "id": "-71mSnodEDM1"
      },
      "source": [
        "Remember to set the following config if you want to GPU.\n",
        "``use_active_gpu`` should be set true if you wish to use an occupied GPU (possibly running a GUI)::\n",
        "\n",
        "   exp.config.trial_gpu_number = 1\n",
        "   exp.config.training_service.use_active_gpu = True\n",
        "\n",
        "Launch the experiment. The experiment should take several minutes to finish on a workstation with 2 GPUs.\n",
        "\n"
      ]
    },
    {
      "cell_type": "code",
      "execution_count": null,
      "metadata": {
        "id": "1D3jyAq-EDM1"
      },
      "outputs": [],
      "source": [
        "exp.run(port=8081)"
      ]
    },
    {
      "cell_type": "markdown",
      "metadata": {
        "id": "0R5MSJbDEDM1"
      },
      "source": [
        "Users can also run NAS Experiment with :doc:`different training services </experiment/training_service/overview>`\n",
        "besides ``local`` training service.\n",
        "\n",
        "## Visualize the Experiment\n",
        "\n",
        "Users can visualize their experiment in the same way as visualizing a normal hyper-parameter tuning experiment.\n",
        "For example, open ``localhost:8081`` in your browser, 8081 is the port that you set in ``exp.run``.\n",
        "Please refer to :doc:`here </experiment/web_portal/web_portal>` for details.\n",
        "\n",
        "We support visualizing models with 3rd-party visualization engines (like [Netron](https://netron.app/)_).\n",
        "This can be used by clicking ``Visualization`` in detail panel for each trial.\n",
        "Note that current visualization is based on [onnx](https://onnx.ai/)_ ,\n",
        "thus visualization is not feasible if the model cannot be exported into onnx.\n",
        "\n",
        "Built-in evaluators (e.g., Classification) will automatically export the model into a file.\n",
        "For your own evaluator, you need to save your file into ``$NNI_OUTPUT_DIR/model.onnx`` to make this work.\n",
        "For instance,\n",
        "\n"
      ]
    },
    {
      "cell_type": "code",
      "execution_count": null,
      "metadata": {
        "id": "inlELfy0EDM1"
      },
      "outputs": [],
      "source": [
        "import os\n",
        "from pathlib import Path\n",
        "\n",
        "\n",
        "def evaluate_model_with_visualization(model):\n",
        "    # dump the model into an onnx\n",
        "    if 'NNI_OUTPUT_DIR' in os.environ:\n",
        "        dummy_input = torch.zeros(1, 3, 32, 32)\n",
        "        torch.onnx.export(model, (dummy_input, ),\n",
        "                          Path(os.environ['NNI_OUTPUT_DIR']) / 'model.onnx')\n",
        "    evaluate_model(model)"
      ]
    },
    {
      "cell_type": "markdown",
      "metadata": {
        "id": "AEF9L_cwEDM2"
      },
      "source": [
        "Relaunch the experiment, and a button is shown on Web portal.\n",
        "\n",
        "<img src=\"file://../../img/netron_entrance_webui.png\">\n",
        "\n",
        "## Export Top Models\n",
        "\n",
        "Users can export top models after the exploration is done using ``export_top_models``.\n",
        "\n"
      ]
    },
    {
      "cell_type": "code",
      "execution_count": null,
      "metadata": {
        "id": "nXOmumWHEDM2"
      },
      "outputs": [],
      "source": [
        "for model_dict in exp.export_top_models(formatter='dict'):\n",
        "    print(model_dict)"
      ]
    }
  ],
  "metadata": {
    "kernelspec": {
      "display_name": "Python 3",
      "language": "python",
      "name": "python3"
    },
    "language_info": {
      "codemirror_mode": {
        "name": "ipython",
        "version": 3
      },
      "file_extension": ".py",
      "mimetype": "text/x-python",
      "name": "python",
      "nbconvert_exporter": "python",
      "pygments_lexer": "ipython3",
      "version": "3.8.12"
    },
    "colab": {
      "provenance": []
    }
  },
  "nbformat": 4,
  "nbformat_minor": 0
}